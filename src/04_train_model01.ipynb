{
 "cells": [
  {
   "cell_type": "code",
   "execution_count": null,
   "id": "75f47f47",
   "metadata": {},
   "outputs": [],
   "source": [
    "# dont forget to reset index\n",
    "# main_df_filled.reset_index(inplace=True)\n",
    "# main_df_filled.rename(columns={'index': 'Date'}, inplace=True)"
   ]
  }
 ],
 "metadata": {
  "language_info": {
   "name": "python"
  }
 },
 "nbformat": 4,
 "nbformat_minor": 5
}
