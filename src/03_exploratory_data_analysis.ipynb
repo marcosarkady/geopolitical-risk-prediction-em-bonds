{
 "cells": [
  {
   "cell_type": "code",
   "execution_count": null,
   "id": "ac03ae73",
   "metadata": {},
   "outputs": [],
   "source": [
    "import pandas as pd\n",
    "import matplotlib.pyplot as plt\n",
    "import matplotlib.dates as mdates"
   ]
  },
  {
   "cell_type": "code",
   "execution_count": null,
   "id": "9ab683de",
   "metadata": {},
   "outputs": [],
   "source": [
    "# column_to_visualize = 'Argentina_Country_Risk_RSSCAROR_Index'\n",
    "\n",
    "# # Select DF before we used ffill\n",
    "# sample_df = main_df_resampled.loc['2009-03-31':'2023-06-30', [column_to_visualize]].copy()\n",
    "# # Use ffill\n",
    "# sample_df['ffilled'] = sample_df[column_to_visualize].ffill()\n",
    "\n",
    "# # Plot\n",
    "# fig, ax = plt.subplots(figsize=(15, 7))\n",
    "\n",
    "# ax.plot(\n",
    "#     sample_df.index,\n",
    "#     sample_df[column_to_visualize],\n",
    "#     marker='o',\n",
    "#     linestyle='--',\n",
    "#     label='Originaldaten (mit Lücken)'\n",
    "# )\n",
    "\n",
    "# ax.plot(\n",
    "#     sample_df.index,\n",
    "#     sample_df['ffilled'],\n",
    "#     linestyle='-',\n",
    "#     label='Daten nach .ffill()',\n",
    "#     drawstyle='steps-post'\n",
    "# )\n",
    "\n",
    "# ax.set_title(f'Visualisierung von Forward Fill (ffill) für \\n\"{column_to_visualize}\"', fontsize=16)\n",
    "# ax.set_xlabel('Datum', fontsize=12)\n",
    "# ax.set_ylabel('Risk Index Wert', fontsize=12)\n",
    "# ax.legend(fontsize=12)\n",
    "# ax.grid(True, which='both', linestyle='--', linewidth=0.5)\n",
    "\n",
    "# ax.xaxis.set_major_locator(mdates.MonthLocator(interval=2))\n",
    "# ax.xaxis.set_major_formatter(mdates.DateFormatter('%b %Y'))\n",
    "# plt.xticks(rotation=90)\n",
    "\n",
    "# plt.tight_layout()\n",
    "# plt.show()"
   ]
  }
 ],
 "metadata": {
  "language_info": {
   "name": "python"
  }
 },
 "nbformat": 4,
 "nbformat_minor": 5
}
